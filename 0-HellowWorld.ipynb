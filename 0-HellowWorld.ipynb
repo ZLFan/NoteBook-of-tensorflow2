{
    "cells": [
        {
            "cell_type": "markdown",
            "source": [
                "# 0. Hellow World\r\n",
                "tensorflow 第一个程序"
            ],
            "metadata": {}
        },
        {
            "cell_type": "code",
            "execution_count": 2,
            "source": [
                "import tensorflow as tf "
            ],
            "outputs": [],
            "metadata": {}
        },
        {
            "cell_type": "code",
            "execution_count": 3,
            "source": [
                "A = tf.constant([[1,2],[3,4]])\r\n",
                "B = tf.constant([[5,6],[7,8]])\r\n",
                "c = tf.matmul(A,B)\r\n",
                "print(c)"
            ],
            "outputs": [
                {
                    "output_type": "stream",
                    "name": "stdout",
                    "text": [
                        "tf.Tensor(\n",
                        "[[19 22]\n",
                        " [43 50]], shape=(2, 2), dtype=int32)\n"
                    ]
                }
            ],
            "metadata": {}
        },
        {
            "cell_type": "code",
            "execution_count": null,
            "source": [],
            "outputs": [],
            "metadata": {}
        }
    ],
    "metadata": {
        "orig_nbformat": 4,
        "language_info": {
            "name": "python",
            "version": "3.8.5",
            "mimetype": "text/x-python",
            "codemirror_mode": {
                "name": "ipython",
                "version": 3
            },
            "pygments_lexer": "ipython3",
            "nbconvert_exporter": "python",
            "file_extension": ".py"
        },
        "kernelspec": {
            "name": "python3",
            "display_name": "Python 3.8.5 64-bit ('base': conda)"
        },
        "interpreter": {
            "hash": "11aafd31e056a6f8ee1ae09a20525e039a10b9fd526e7df43c81406d5bd7e71b"
        }
    },
    "nbformat": 4,
    "nbformat_minor": 2
}